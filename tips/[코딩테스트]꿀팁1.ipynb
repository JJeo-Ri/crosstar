{
  "nbformat": 4,
  "nbformat_minor": 0,
  "metadata": {
    "colab": {
      "name": "[코딩테스트]꿀팁1.ipynb",
      "provenance": []
    },
    "kernelspec": {
      "name": "python3",
      "display_name": "Python 3"
    },
    "language_info": {
      "name": "python"
    }
  },
  "cells": [
    {
      "cell_type": "markdown",
      "metadata": {
        "id": "QIvfpa4Zu0a2"
      },
      "source": [
        "## divmod\n",
        "나누기의 몫과 나머지를 한 번에 리턴."
      ]
    },
    {
      "cell_type": "code",
      "metadata": {
        "colab": {
          "base_uri": "https://localhost:8080/"
        },
        "id": "s56DnX3zuiqg",
        "outputId": "db6a9a53-c611-41f7-dfb3-71154c89d32b"
      },
      "source": [
        "divmod(10,3)"
      ],
      "execution_count": 1,
      "outputs": [
        {
          "output_type": "execute_result",
          "data": {
            "text/plain": [
              "(3, 1)"
            ]
          },
          "metadata": {},
          "execution_count": 1
        }
      ]
    },
    {
      "cell_type": "markdown",
      "metadata": {
        "id": "4jzMOM1zu7Iu"
      },
      "source": [
        "## zip, zip_longest\n",
        " 원소가 참인 것만 뽑아 만든 iterator. \n",
        " - zip : 적은 원소에 맞춰짐\n",
        " - zip_longest : 긴 원소에 맞춰짐"
      ]
    },
    {
      "cell_type": "code",
      "metadata": {
        "colab": {
          "base_uri": "https://localhost:8080/"
        },
        "id": "WwJNfT36vDgT",
        "outputId": "d957d8e1-298a-4cef-cd60-6507aea53396"
      },
      "source": [
        "list(zip('ABCD', 'xy'))"
      ],
      "execution_count": 2,
      "outputs": [
        {
          "output_type": "execute_result",
          "data": {
            "text/plain": [
              "[('A', 'x'), ('B', 'y')]"
            ]
          },
          "metadata": {},
          "execution_count": 2
        }
      ]
    },
    {
      "cell_type": "code",
      "metadata": {
        "colab": {
          "base_uri": "https://localhost:8080/"
        },
        "id": "2tYT5qS8vK8y",
        "outputId": "07486be5-8f32-4079-8e37-93409e69f99b"
      },
      "source": [
        "import itertools\n",
        "\n",
        "list(itertools.zip_longest('ABCD','xy', fillvalue='아잉'))"
      ],
      "execution_count": 4,
      "outputs": [
        {
          "output_type": "execute_result",
          "data": {
            "text/plain": [
              "[('A', 'x'), ('B', 'y'), ('C', '아잉'), ('D', '아잉')]"
            ]
          },
          "metadata": {},
          "execution_count": 4
        }
      ]
    },
    {
      "cell_type": "markdown",
      "metadata": {
        "id": "7sYqLLTev_xt"
      },
      "source": [
        "## Set\n",
        "- &, |, - 각각 교집합, 차집합, 여집합\n",
        "- issubset, issuperset, isdisjoint"
      ]
    },
    {
      "cell_type": "code",
      "metadata": {
        "colab": {
          "base_uri": "https://localhost:8080/"
        },
        "id": "rUi6lEpowOw7",
        "outputId": "a0a656fc-d65b-4a13-b6d0-cc4e315406f1"
      },
      "source": [
        "s1 = set([1, 2, 3])\n",
        "s2 = set([2, 3, 4])\n",
        "\n",
        "s1&s2"
      ],
      "execution_count": 7,
      "outputs": [
        {
          "output_type": "execute_result",
          "data": {
            "text/plain": [
              "{2, 3}"
            ]
          },
          "metadata": {},
          "execution_count": 7
        }
      ]
    },
    {
      "cell_type": "code",
      "metadata": {
        "colab": {
          "base_uri": "https://localhost:8080/"
        },
        "id": "t7uBED3CxJKT",
        "outputId": "08b19b26-b010-4b13-ed96-bbdd697cac55"
      },
      "source": [
        "s1-s2"
      ],
      "execution_count": 8,
      "outputs": [
        {
          "output_type": "execute_result",
          "data": {
            "text/plain": [
              "{1}"
            ]
          },
          "metadata": {},
          "execution_count": 8
        }
      ]
    },
    {
      "cell_type": "code",
      "metadata": {
        "colab": {
          "base_uri": "https://localhost:8080/"
        },
        "id": "zxvwOlp_xNRC",
        "outputId": "b3ecedd6-27c6-46c8-a478-9323fded4225"
      },
      "source": [
        "s1|s2"
      ],
      "execution_count": 9,
      "outputs": [
        {
          "output_type": "execute_result",
          "data": {
            "text/plain": [
              "{1, 2, 3, 4}"
            ]
          },
          "metadata": {},
          "execution_count": 9
        }
      ]
    },
    {
      "cell_type": "code",
      "metadata": {
        "colab": {
          "base_uri": "https://localhost:8080/"
        },
        "id": "23m9kXINxQ7X",
        "outputId": "b77296ca-0e74-4232-d965-71e6b79bb37a"
      },
      "source": [
        "s1.issubset([1,2,3,4])"
      ],
      "execution_count": 10,
      "outputs": [
        {
          "output_type": "execute_result",
          "data": {
            "text/plain": [
              "True"
            ]
          },
          "metadata": {},
          "execution_count": 10
        }
      ]
    },
    {
      "cell_type": "code",
      "metadata": {
        "colab": {
          "base_uri": "https://localhost:8080/"
        },
        "id": "a9ZxQYEZxYvC",
        "outputId": "2c07169b-819a-41d5-ba9e-c1a811e8be0a"
      },
      "source": [
        "s1.issuperset([1,2])"
      ],
      "execution_count": 11,
      "outputs": [
        {
          "output_type": "execute_result",
          "data": {
            "text/plain": [
              "True"
            ]
          },
          "metadata": {},
          "execution_count": 11
        }
      ]
    },
    {
      "cell_type": "code",
      "metadata": {
        "colab": {
          "base_uri": "https://localhost:8080/"
        },
        "id": "jbIVasXvxdTM",
        "outputId": "b0f044a9-55be-40a5-e95c-4cd023ed4de5"
      },
      "source": [
        "s1.isdisjoint([4,5])"
      ],
      "execution_count": 13,
      "outputs": [
        {
          "output_type": "execute_result",
          "data": {
            "text/plain": [
              "True"
            ]
          },
          "metadata": {},
          "execution_count": 13
        }
      ]
    },
    {
      "cell_type": "markdown",
      "metadata": {
        "id": "d8dKXDWQxzk6"
      },
      "source": [
        "## Itertools\n",
        "- combination\n",
        "- puermutation\n",
        "- product"
      ]
    },
    {
      "cell_type": "code",
      "metadata": {
        "colab": {
          "base_uri": "https://localhost:8080/"
        },
        "id": "xt0kyAqVxzVC",
        "outputId": "e137e231-59d9-4b82-afed-fe4856d62ec2"
      },
      "source": [
        "for cr in itertools.combinations_with_replacement(['a','b','c'],2):\n",
        "  print(cr)\n",
        "\n"
      ],
      "execution_count": 15,
      "outputs": [
        {
          "output_type": "stream",
          "name": "stdout",
          "text": [
            "('a', 'a')\n",
            "('a', 'b')\n",
            "('a', 'c')\n",
            "('b', 'b')\n",
            "('b', 'c')\n",
            "('c', 'c')\n"
          ]
        }
      ]
    },
    {
      "cell_type": "markdown",
      "metadata": {
        "id": "STf4A6AivZ31"
      },
      "source": [
        "### Product\n",
        "iterable 객체들에 대해 Cartesian product 리턴."
      ]
    },
    {
      "cell_type": "code",
      "metadata": {
        "colab": {
          "base_uri": "https://localhost:8080/"
        },
        "id": "2pT583EIwUpD",
        "outputId": "a5d90974-408e-4c78-987f-1eebc9c5ebbb"
      },
      "source": [
        "list_1, list_2 = [1,2,3,4], ['a','b','c']\n",
        "\n",
        "for i,k in itertools.product(list_1, list_2):\n",
        "  print(i,k)"
      ],
      "execution_count": 16,
      "outputs": [
        {
          "output_type": "stream",
          "name": "stdout",
          "text": [
            "1 a\n",
            "1 b\n",
            "1 c\n",
            "2 a\n",
            "2 b\n",
            "2 c\n",
            "3 a\n",
            "3 b\n",
            "3 c\n",
            "4 a\n",
            "4 b\n",
            "4 c\n"
          ]
        }
      ]
    },
    {
      "cell_type": "code",
      "metadata": {
        "colab": {
          "base_uri": "https://localhost:8080/"
        },
        "id": "rRORO-Bpz0cI",
        "outputId": "53b3c004-64da-4cd6-800e-f97c1a6c323a"
      },
      "source": [
        "list(itertools.product(list_1,list_2))"
      ],
      "execution_count": 19,
      "outputs": [
        {
          "output_type": "execute_result",
          "data": {
            "text/plain": [
              "[(1, 'a'),\n",
              " (1, 'b'),\n",
              " (1, 'c'),\n",
              " (2, 'a'),\n",
              " (2, 'b'),\n",
              " (2, 'c'),\n",
              " (3, 'a'),\n",
              " (3, 'b'),\n",
              " (3, 'c'),\n",
              " (4, 'a'),\n",
              " (4, 'b'),\n",
              " (4, 'c')]"
            ]
          },
          "metadata": {},
          "execution_count": 19
        }
      ]
    },
    {
      "cell_type": "code",
      "metadata": {
        "colab": {
          "base_uri": "https://localhost:8080/"
        },
        "id": "a0UgW25Pzg-9",
        "outputId": "6ff40bca-89e4-4429-aa60-a88a0d66687a"
      },
      "source": [
        "for z,y,x in itertools.product(range(2),range(3),range(4)):\n",
        "  print(x,y,z)"
      ],
      "execution_count": 21,
      "outputs": [
        {
          "output_type": "stream",
          "name": "stdout",
          "text": [
            "0 0 0\n",
            "1 0 0\n",
            "2 0 0\n",
            "3 0 0\n",
            "0 1 0\n",
            "1 1 0\n",
            "2 1 0\n",
            "3 1 0\n",
            "0 2 0\n",
            "1 2 0\n",
            "2 2 0\n",
            "3 2 0\n",
            "0 0 1\n",
            "1 0 1\n",
            "2 0 1\n",
            "3 0 1\n",
            "0 1 1\n",
            "1 1 1\n",
            "2 1 1\n",
            "3 1 1\n",
            "0 2 1\n",
            "1 2 1\n",
            "2 2 1\n",
            "3 2 1\n"
          ]
        }
      ]
    },
    {
      "cell_type": "markdown",
      "metadata": {
        "id": "o1-q0zSM0wlW"
      },
      "source": [
        "## compress\n",
        "참인것만 뽑아서 만든것."
      ]
    },
    {
      "cell_type": "code",
      "metadata": {
        "colab": {
          "base_uri": "https://localhost:8080/"
        },
        "id": "lZlEiILszSnj",
        "outputId": "d505f8e1-8f74-4c04-9c2e-316dae0b79e2"
      },
      "source": [
        "list(itertools.compress('ABCDEF', [1,0,1,0,1,1]))"
      ],
      "execution_count": 23,
      "outputs": [
        {
          "output_type": "execute_result",
          "data": {
            "text/plain": [
              "['A', 'C', 'E', 'F']"
            ]
          },
          "metadata": {},
          "execution_count": 23
        }
      ]
    },
    {
      "cell_type": "code",
      "metadata": {
        "id": "3V0KWjSU0-M8"
      },
      "source": [
        ""
      ],
      "execution_count": null,
      "outputs": []
    }
  ]
}