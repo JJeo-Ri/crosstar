{
  "nbformat": 4,
  "nbformat_minor": 0,
  "metadata": {
    "colab": {
      "name": "[Lv1]one_participant.ipynb",
      "provenance": [],
      "collapsed_sections": []
    },
    "kernelspec": {
      "name": "python3",
      "display_name": "Python 3"
    },
    "language_info": {
      "name": "python"
    }
  },
  "cells": [
    {
      "cell_type": "markdown",
      "metadata": {
        "id": "HzFPUo_Cwcfc"
      },
      "source": [
        "[문제 링크](https://www.welcomekakao.com/learn/courses/30/lessons/42576)\n",
        "완주하지 못한 1명의 선수를 return하는 문제. "
      ]
    },
    {
      "cell_type": "markdown",
      "metadata": {
        "id": "yuZNvATuwyja"
      },
      "source": [
        "1. 단순히 completion 리스트를 확인하고 participation에 없는 element를 반환할 경우, 동명이인 발생 시 문제를 처리하지 못한다.(오답)"
      ]
    },
    {
      "cell_type": "code",
      "metadata": {
        "id": "217ibM6_v6x6"
      },
      "source": [
        "# 오답\n",
        "\n",
        "def solution(participant, completion):\n",
        "    answer=''\n",
        "\n",
        "    for par in participant:\n",
        "        if par not in completion:\n",
        "            idx=completion.index(par)\n",
        "            completion.pop(idx)\n",
        "        else :\n",
        "            answer = par\n",
        "    return answer\n",
        "    "
      ],
      "execution_count": null,
      "outputs": []
    },
    {
      "cell_type": "code",
      "metadata": {
        "id": "8ixiSL8vwO7l"
      },
      "source": [
        "l1 = [\"leo\", \"kiki\", \"eden\"]\n",
        "l2 = [\"eden\", \"kiki\"]"
      ],
      "execution_count": null,
      "outputs": []
    },
    {
      "cell_type": "markdown",
      "metadata": {
        "id": "TrfeQ5fYxAD8"
      },
      "source": [
        "## 풀이 1. sorting and zip()\n",
        "sorted로 정렬 후  zip함수를 이용하여 짝이 안맞는 남은 경우를 return"
      ]
    },
    {
      "cell_type": "code",
      "metadata": {
        "id": "nv7IPKdUwQnk"
      },
      "source": [
        "# 풀이 1\n",
        "l1, l2 = sorted(l1),sorted(l2)\n",
        "for par,com in zip(l1,l2):\n",
        "    if par !=com:\n",
        "        print(par)\n",
        "print(l1[-1])"
      ],
      "execution_count": null,
      "outputs": []
    },
    {
      "cell_type": "markdown",
      "metadata": {
        "id": "wP-eRfSsxKPU"
      },
      "source": [
        "## 풀이 2.hash() 이용  \n",
        " hash() 함수로 특정 주소를 hashing 한 후 남은 값에 mapping된 원소를 리턴.(주소 충돌이 있을 경우 문제가 될 소지가 있는 풀이.)"
      ]
    },
    {
      "cell_type": "code",
      "metadata": {
        "id": "BXd3VDoBwTNM"
      },
      "source": [
        "## 풀이 2\n",
        "temp = 0\n",
        "dic = {}\n",
        "#랜덤으로 hashing\n",
        "for part in l1:\n",
        "    dic[hash(part)] = part\n",
        "    temp+=int(hash(part))\n",
        "    print(temp)\n",
        "for com in l2:\n",
        "    temp -= hash(com)\n",
        "answer = dic[temp]\n",
        "print(answer)"
      ],
      "execution_count": null,
      "outputs": []
    },
    {
      "cell_type": "markdown",
      "metadata": {
        "id": "BpO4TQOzxlIt"
      },
      "source": [
        "## 풀이 3. collections.Counter 로 차이 연산"
      ]
    },
    {
      "cell_type": "code",
      "metadata": {
        "id": "U0-hKuk9wVg0"
      },
      "source": [
        "# 풀이 3\n",
        "import collections\n",
        "\n",
        "\n",
        "def solution(participant, completion):\n",
        "    answer = collections.Counter(participant) - collections.Counter(completion)\n",
        "    return list(answer.keys())[0]\n"
      ],
      "execution_count": null,
      "outputs": []
    }
  ]
}