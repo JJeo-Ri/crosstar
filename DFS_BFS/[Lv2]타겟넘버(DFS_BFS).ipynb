{
  "nbformat": 4,
  "nbformat_minor": 0,
  "metadata": {
    "colab": {
      "name": "[Lv2]타겟넘버(DFS/BFS).ipynb",
      "provenance": []
    },
    "kernelspec": {
      "name": "python3",
      "display_name": "Python 3"
    },
    "language_info": {
      "name": "python"
    }
  },
  "cells": [
    {
      "cell_type": "markdown",
      "metadata": {
        "id": "UlbGym_elMeR"
      },
      "source": [
        "## [Lv2] BFS, DFS\n",
        "\n",
        " 아래는 BFS 풀이"
      ]
    },
    {
      "cell_type": "code",
      "metadata": {
        "id": "CwmybDcPlLsk"
      },
      "source": [
        "def solution(numbers, target):\n",
        "    uplist = [0]\n",
        "    for n in numbers:\n",
        "        outlist=[]\n",
        "        for m in uplist:\n",
        "            outlist.append(m+n)\n",
        "            outlist.append(m-n)\n",
        "        uplist=outlist\n",
        "    answer = uplist.count(target)\n",
        "    return answer"
      ],
      "execution_count": null,
      "outputs": []
    }
  ]
}