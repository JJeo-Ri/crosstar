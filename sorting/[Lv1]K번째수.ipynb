{
  "nbformat": 4,
  "nbformat_minor": 0,
  "metadata": {
    "colab": {
      "name": "[Lv1]K번째수.ipynb",
      "provenance": []
    },
    "kernelspec": {
      "name": "python3",
      "display_name": "Python 3"
    },
    "language_info": {
      "name": "python"
    }
  },
  "cells": [
    {
      "cell_type": "markdown",
      "metadata": {
        "id": "bvImIegNh5pV"
      },
      "source": [
        "[문제 풀기](https://programmers.co.kr/learn/courses/30/lessons/42748)"
      ]
    },
    {
      "cell_type": "markdown",
      "metadata": {
        "id": "x0At3V11iFqk"
      },
      "source": [
        "접근 1. list comprehension"
      ]
    },
    {
      "cell_type": "code",
      "metadata": {
        "id": "LbynmgFUiK17"
      },
      "source": [
        "array = [1, 5, 2, 6, 3, 7, 4]\t\n",
        "commands = [[2, 5, 3], [4, 4, 1], [1, 7, 3]]"
      ],
      "execution_count": 1,
      "outputs": []
    },
    {
      "cell_type": "code",
      "metadata": {
        "colab": {
          "base_uri": "https://localhost:8080/"
        },
        "id": "TOKDUFF6iBbE",
        "outputId": "d11c0af5-8a98-49f9-c04d-2d279d28590e"
      },
      "source": [
        "def solution(array, commands): \n",
        "    return [sorted(array[com[0]-1:com[1]])[com[2]-1] for com in commands]\n",
        "\n",
        "solution(array,commands)"
      ],
      "execution_count": 2,
      "outputs": [
        {
          "output_type": "execute_result",
          "data": {
            "text/plain": [
              "[5, 6, 3]"
            ]
          },
          "metadata": {},
          "execution_count": 2
        }
      ]
    },
    {
      "cell_type": "markdown",
      "metadata": {
        "id": "HHHel0qviIgz"
      },
      "source": [
        "접근 2. 언패킹 추가"
      ]
    },
    {
      "cell_type": "code",
      "metadata": {
        "colab": {
          "base_uri": "https://localhost:8080/"
        },
        "id": "uJi3XKbPiErx",
        "outputId": "d670f0ee-933f-45bd-85fa-eb3a03795f0f"
      },
      "source": [
        "def solution2(array, commands): \n",
        "    return [sorted(array[i-1:j])[k-1] for i, j, k in commands]\n",
        "\n",
        "solution2(array,commands)"
      ],
      "execution_count": 5,
      "outputs": [
        {
          "output_type": "execute_result",
          "data": {
            "text/plain": [
              "[5, 6, 3]"
            ]
          },
          "metadata": {},
          "execution_count": 5
        }
      ]
    },
    {
      "cell_type": "markdown",
      "metadata": {
        "id": "uzaYpFZ1ioZN"
      },
      "source": [
        "접근 3. map, lambda"
      ]
    },
    {
      "cell_type": "code",
      "metadata": {
        "colab": {
          "base_uri": "https://localhost:8080/"
        },
        "id": "iH8Z2Pnhij51",
        "outputId": "cfd95ccc-d046-41d4-e7ad-4307efd39eea"
      },
      "source": [
        " def solution3(array, commands):\n",
        "   return list(map(lambda x:sorted(array[x[0]-1:x[1]])[x[2]-1],commands))\n",
        "solution3(array,commands)"
      ],
      "execution_count": 7,
      "outputs": [
        {
          "output_type": "execute_result",
          "data": {
            "text/plain": [
              "[5, 6, 3]"
            ]
          },
          "metadata": {},
          "execution_count": 7
        }
      ]
    }
  ]
}