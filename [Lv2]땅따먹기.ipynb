{
 "cells": [
  {
   "cell_type": "markdown",
   "id": "93378cf6",
   "metadata": {},
   "source": [
    "[문제 및 풀이](https://ssungkang.tistory.com/entry/%EB%95%85%EB%94%B0%EB%A8%B9%EA%B8%B0%ED%94%84%EB%A1%9C%EA%B7%B8%EB%9E%98%EB%A8%B8%EC%8A%A4level2)"
   ]
  },
  {
   "cell_type": "code",
   "execution_count": null,
   "id": "b63ee75f",
   "metadata": {},
   "outputs": [],
   "source": [
    "\n",
    "land = [[1,2,3,5],[5,6,7,8],[4,3,2,1]]\n",
    "ans = 0\n",
    "\n",
    "for i in range(len(land)):\n",
    "    if (i + 1) != len(land):\n",
    "        land[i + 1][0] += max(land[i][1],land[i][2],land[i][3])\n",
    "        land[i + 1][1] += max(land[i][0], land[i][2], land[i][3])\n",
    "        land[i + 1][2] += max(land[i][0], land[i][1], land[i][3])\n",
    "        land[i + 1][3] += max(land[i][0], land[i][1], land[i][2])\n",
    "    else:\n",
    "        ans = max(land[i])\n",
    "\n",
    "\n",
    "print(ans)"
   ]
  },
  {
   "cell_type": "markdown",
   "id": "c9484ee0",
   "metadata": {},
   "source": [
    "# 회고\n",
    "- 처음에 Greedy하게 접근해서 알고리즘을 짜서 테스트에는 알맞게 작동했는데, 큰 반례가 있어 정답은 아니었다.\n",
    "- '열이 4열'이라는 조건을 잘 활용해야 하는 것 같다. 그래서 일일이 나머지 3열에 대해 비교하는 알고리즘을 단순하게 짤 수 있었다.\n",
    "- 0,1,2 를 일일이 쓰는게 아니라, 더 좋은 방법이 있을지는 고민해봐야 할 것 같다."
   ]
  }
 ],
 "metadata": {
  "kernelspec": {
   "display_name": "Python 3",
   "language": "python",
   "name": "python3"
  },
  "language_info": {
   "codemirror_mode": {
    "name": "ipython",
    "version": 3
   },
   "file_extension": ".py",
   "mimetype": "text/x-python",
   "name": "python",
   "nbconvert_exporter": "python",
   "pygments_lexer": "ipython3",
   "version": "3.8.8"
  }
 },
 "nbformat": 4,
 "nbformat_minor": 5
}
