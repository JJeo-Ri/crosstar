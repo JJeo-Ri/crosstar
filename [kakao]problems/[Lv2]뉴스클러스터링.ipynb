{
  "nbformat": 4,
  "nbformat_minor": 0,
  "metadata": {
    "colab": {
      "name": "[Lv2]뉴스클러스터링.ipynb",
      "provenance": []
    },
    "kernelspec": {
      "name": "python3",
      "display_name": "Python 3"
    },
    "language_info": {
      "name": "python"
    }
  },
  "cells": [
    {
      "cell_type": "markdown",
      "metadata": {
        "id": "412YkSDbR84M"
      },
      "source": [
        "[문제 풀기](https://programmers.co.kr/learn/courses/30/lessons/17677/solution_groups?language=python3)\n",
        "\n",
        "## 집합 개념으로 비교적 수월하게 코딩했던 문제!\n",
        "\n",
        "- 중복집합에 대한 개념을 dictionary 개수와 key 교집합, 차집합, 합집합 그리고 min max로 해결하였다."
      ]
    },
    {
      "cell_type": "code",
      "metadata": {
        "id": "obWIjSImR4h9"
      },
      "source": [
        "def solution(str1, str2):\n",
        "    \n",
        "    S_1 = [(str1[i] + str1[i+1]).lower()  for i in range(len(str1)-1) if (str1[i] + str1[i+1]).isalpha()]\n",
        "    S_2 = [(str2[i] + str2[i+1]).lower()  for i in range(len(str2)-1) if (str2[i] + str2[i+1]).isalpha()]\n",
        "    \n",
        "    if not S_1 and not S_2:\n",
        "        return 65536\n",
        "    else:\n",
        "        dic1,dic2={}, {}\n",
        "\n",
        "        for i in set(S_1):\n",
        "            dic1[i]=S_1.count(i)\n",
        "        for i in set(S_2):\n",
        "            dic2[i]=S_2.count(i)\n",
        "        # print(dic1, dic2)\n",
        "        cnt_in, cnt_out = 0, 0\n",
        "        \n",
        "        for key in set(S_1)|set(S_2):\n",
        "            if key in set(S_1)&set(S_2):\n",
        "                cnt_in+=min(dic1[key],dic2[key])\n",
        "                cnt_out+=max(dic1[key],dic2[key])\n",
        "            if key in set(S_1)-set(S_2) :\n",
        "                cnt_out+=dic1[key]\n",
        "            if key in set(S_2)-set(S_1):\n",
        "                cnt_out+=dic2[key]\n",
        "        print(cnt_in, cnt_out)\n",
        "        return int(cnt_in/cnt_out *65536)"
      ],
      "execution_count": 1,
      "outputs": []
    },
    {
      "cell_type": "code",
      "metadata": {
        "colab": {
          "base_uri": "https://localhost:8080/"
        },
        "id": "kCHzkgsYSBez",
        "outputId": "5eeb3d47-8798-484a-9199-9722bcdf7aa8"
      },
      "source": [
        "solution(\"france\",\"FRENCH\")"
      ],
      "execution_count": 2,
      "outputs": [
        {
          "output_type": "stream",
          "name": "stdout",
          "text": [
            "2 8\n"
          ]
        },
        {
          "output_type": "execute_result",
          "data": {
            "text/plain": [
              "16384"
            ]
          },
          "metadata": {},
          "execution_count": 2
        }
      ]
    }
  ]
}