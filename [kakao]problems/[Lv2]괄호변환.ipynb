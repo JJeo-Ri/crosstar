{
  "nbformat": 4,
  "nbformat_minor": 0,
  "metadata": {
    "colab": {
      "name": "[Lv2]괄호변환.ipynb",
      "provenance": []
    },
    "kernelspec": {
      "name": "python3",
      "display_name": "Python 3"
    },
    "language_info": {
      "name": "python"
    },
    "accelerator": "GPU"
  },
  "cells": [
    {
      "cell_type": "code",
      "metadata": {
        "id": "27yktl5YKgx8"
      },
      "source": [
        "def factorial(x):\n",
        "  if x==1:\n",
        "    return 1\n",
        "\n",
        "  else :\n",
        "    return (x* factorial(x-1))\n",
        "\n"
      ],
      "execution_count": 1,
      "outputs": []
    },
    {
      "cell_type": "markdown",
      "metadata": {
        "id": "FqkRjxdHmKsb"
      },
      "source": [
        "[문제 풀기](https://programmers.co.kr/learn/courses/30/lessons/60058)\n",
        "\n",
        " - 재귀함수와 stack 개념을 복합적으로 활용하는 문제."
      ]
    },
    {
      "cell_type": "code",
      "metadata": {
        "id": "WA8E_Dd6QJ8v"
      },
      "source": [
        "def divide(w):\n",
        "  openP = 0\n",
        "  closeP = 0\n",
        "\n",
        "  for i in range(len(w)):\n",
        "    if w[i]=='(':\n",
        "      openP += 1\n",
        "    else :\n",
        "      closeP += 1\n",
        "    if openP == closeP:\n",
        "      return w[:i+1], w[i+1:]"
      ],
      "execution_count": 2,
      "outputs": []
    },
    {
      "cell_type": "code",
      "metadata": {
        "id": "y3NtZrwQRtNW"
      },
      "source": [
        "def isBalanced(u):\n",
        "  stack =[]\n",
        "\n",
        "  for p in u :\n",
        "    if p == '(':\n",
        "      stack.append(p)\n",
        "    else : \n",
        "      if not stack: # stack이 빈리스트라면\n",
        "        return False\n",
        "      stack.pop()\n",
        "  return True"
      ],
      "execution_count": 10,
      "outputs": []
    },
    {
      "cell_type": "code",
      "metadata": {
        "id": "fjO_Ro0-Yzb5"
      },
      "source": [
        "def solution(w):\n",
        "  if not w : \n",
        "    return ''\n",
        "  else:\n",
        "    u, v = divide(w)\n",
        "    if isBalanced(u):\n",
        "      return u + solution(v)\n",
        "    else:\n",
        "      new = '(' + solution(v) + ')'\n",
        "      for p in u[1:len(u)-1]:\n",
        "        if p=='(':\n",
        "          new+=')'\n",
        "        else:\n",
        "          new+='('\n",
        "        \n",
        "      return new\n",
        "\n"
      ],
      "execution_count": 8,
      "outputs": []
    },
    {
      "cell_type": "code",
      "metadata": {
        "colab": {
          "base_uri": "https://localhost:8080/",
          "height": 34
        },
        "id": "IBUeLuVsdGEp",
        "outputId": "cd63381d-cd30-4b10-9318-e816b18a075c"
      },
      "source": [
        "solution(\"()))((()\")"
      ],
      "execution_count": 9,
      "outputs": [
        {
          "output_type": "execute_result",
          "data": {
            "application/vnd.google.colaboratory.intrinsic+json": {
              "type": "string"
            },
            "text/plain": [
              "'()(())()'"
            ]
          },
          "metadata": {},
          "execution_count": 9
        }
      ]
    },
    {
      "cell_type": "markdown",
      "metadata": {
        "id": "jKAnGH7-mqKR"
      },
      "source": [
        "### 문제를 잘 이해하면 어렵지 않은 문제지만 나에겐 너무 어려웠다.\n",
        "\n",
        "\n",
        "- string의 앞 뒤 제거 : slicing 활용\n",
        "- 조건을 잘 이해해야 함. \n",
        "- stack 에서 count 덧뺄셈을 활용할 것."
      ]
    },
    {
      "cell_type": "markdown",
      "metadata": {
        "id": "fD6KaduRimVq"
      },
      "source": [
        "추천 많이 받은 풀이! lambda  활용.\n"
      ]
    },
    {
      "cell_type": "code",
      "metadata": {
        "id": "IviTPP5ifudS"
      },
      "source": [
        "def solution(p):\n",
        "   m if p=='': return p\n",
        "    r=True; c=0\n",
        "    for i in range(len(p)):\n",
        "        if p[i]=='(': c-=1\n",
        "        else: c+=1\n",
        "        if c>0: r=False\n",
        "        if c==0:\n",
        "            if r:\n",
        "                return p[:i+1]+solution(p[i+1:])\n",
        "            else:\n",
        "                return '('+solution(p[i+1:])+')'+''.join(list(map(lambda x:'(' if x==')' else ')',p[1:i]) ))"
      ],
      "execution_count": 14,
      "outputs": []
    }
  ]
}