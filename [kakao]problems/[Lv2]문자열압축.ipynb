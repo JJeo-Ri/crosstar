{
  "nbformat": 4,
  "nbformat_minor": 0,
  "metadata": {
    "colab": {
      "name": "[Lv2]문자열압축.ipynb",
      "provenance": []
    },
    "kernelspec": {
      "name": "python3",
      "display_name": "Python 3"
    },
    "language_info": {
      "name": "python"
    }
  },
  "cells": [
    {
      "cell_type": "markdown",
      "metadata": {
        "id": "QVXm3oyV9aPL"
      },
      "source": [
        "[문제 풀기](https://programmers.co.kr/learn/courses/30/lessons/60057)\n",
        "\n",
        "## 착안점🤡\n",
        "- 앞에서부터 차례대로 하나씩 훑는다. 1개 띄고 2개씩 비교하고 이런 거 없음.\n",
        "- 가장 긴 열은 문자열의 절반 길이\n",
        "- res 문자열로 새로 구성한 후 for문을 통해 최솟값을 구한다.\n",
        "\n",
        "복습 요망."
      ]
    },
    {
      "cell_type": "code",
      "metadata": {
        "id": "toUUx4Ng9JaW"
      },
      "source": [
        "def solution(s):\n",
        "    answer = 100000\n",
        "    if len(s)==1:\n",
        "        return 1\n",
        "    else:\n",
        "        for n in range(1,len(s)//2+1):\n",
        "            res='' #문자열이 변환될 코드\n",
        "            cnt=1\n",
        "            tmp = s[:n] #count를 위해 비교의 기준이 되는 코드\n",
        "            for i in range(n, len(s)+n, n):\n",
        "                if tmp==s[i:i+n]:\n",
        "                    cnt+=1\n",
        "                else:\n",
        "                    if cnt==1:\n",
        "                        res+=tmp\n",
        "                    else:\n",
        "                        res = res + str(cnt) + tmp\n",
        "                        # print(res)\n",
        "                    tmp = s[i:i+n] #다음 문자열을 기준으로 삼기\n",
        "                    cnt =1 #초기화\n",
        "            answer = min(answer,len(res))\n",
        "        return answer"
      ],
      "execution_count": 1,
      "outputs": []
    },
    {
      "cell_type": "code",
      "metadata": {
        "colab": {
          "base_uri": "https://localhost:8080/"
        },
        "id": "5zm75mV79LzA",
        "outputId": "fafef078-883b-40f1-c56e-136e20be396c"
      },
      "source": [
        "s1 = \"ababcdcdababcdcd\"\n",
        "solution(s1)"
      ],
      "execution_count": 2,
      "outputs": [
        {
          "output_type": "execute_result",
          "data": {
            "text/plain": [
              "9"
            ]
          },
          "metadata": {},
          "execution_count": 2
        }
      ]
    },
    {
      "cell_type": "code",
      "metadata": {
        "id": "0Kpr-UnB9ZI7"
      },
      "source": [
        ""
      ],
      "execution_count": null,
      "outputs": []
    }
  ]
}