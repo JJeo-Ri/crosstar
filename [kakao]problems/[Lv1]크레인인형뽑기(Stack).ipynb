{
  "nbformat": 4,
  "nbformat_minor": 0,
  "metadata": {
    "colab": {
      "name": "[Lv1]크레인인형뽑기(Stack).ipynb",
      "provenance": []
    },
    "kernelspec": {
      "name": "python3",
      "display_name": "Python 3"
    },
    "language_info": {
      "name": "python"
    }
  },
  "cells": [
    {
      "cell_type": "markdown",
      "metadata": {
        "id": "TWBJno_odnsT"
      },
      "source": [
        "[문제 풀기](https://programmers.co.kr/learn/courses/30/lessons/64061)  \n",
        "- 인형뽑기 게임으로 stack 후 터지는 블록 개수를 계산하는 문제\n",
        "- stack 개념과 전치(필수적인건 아님)를 활용하면 어렵지 않게 풀 수 있는 문제"
      ]
    },
    {
      "cell_type": "code",
      "metadata": {
        "id": "9Z9mwIQCdcg3"
      },
      "source": [
        "def solution(board, moves):\n",
        "    board =  list(map(list,zip(*board)))\n",
        "    stack = []\n",
        "    answer=0\n",
        "    for idx in moves:\n",
        "        for i, blk in enumerate(board[idx-1]):\n",
        "            if blk !=0:\n",
        "                stack.append(blk)\n",
        "                board[idx-1][i]=0\n",
        "                if len(stack)>1 and stack[-1]==stack[-2]:\n",
        "                    stack.pop()\n",
        "                    stack.pop()\n",
        "                    answer+=2\n",
        "                break;\n",
        "    print(board)\n",
        "    print(stack) \n",
        "    \n",
        "    return answer"
      ],
      "execution_count": 4,
      "outputs": []
    },
    {
      "cell_type": "code",
      "metadata": {
        "colab": {
          "base_uri": "https://localhost:8080/"
        },
        "id": "tYf4XgDhdoUy",
        "outputId": "6912e889-6fbb-48cf-d457-83fcaf3dd9e4"
      },
      "source": [
        "board = [[0,0,0,0,0],[0,0,1,0,3],[0,2,5,0,1],[4,2,4,4,2],[3,5,1,3,1]]\n",
        "moves = [1,5,3,5,1,2,1,4]\n",
        "solution(board, moves)"
      ],
      "execution_count": 5,
      "outputs": [
        {
          "output_type": "stream",
          "name": "stdout",
          "text": [
            "[[0, 0, 0, 0, 0], [0, 0, 0, 2, 5], [0, 0, 5, 4, 1], [0, 0, 0, 0, 3], [0, 0, 0, 2, 1]]\n",
            "[4, 2, 4]\n",
            "4\n"
          ]
        },
        {
          "output_type": "execute_result",
          "data": {
            "text/plain": [
              "4"
            ]
          },
          "metadata": {},
          "execution_count": 5
        }
      ]
    },
    {
      "cell_type": "code",
      "metadata": {
        "id": "UdHDeqk8drsL"
      },
      "source": [
        ""
      ],
      "execution_count": null,
      "outputs": []
    }
  ]
}