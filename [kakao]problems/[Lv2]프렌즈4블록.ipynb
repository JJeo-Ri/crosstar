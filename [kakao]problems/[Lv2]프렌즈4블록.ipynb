{
  "nbformat": 4,
  "nbformat_minor": 0,
  "metadata": {
    "colab": {
      "name": "[Lv2]프렌즈4블록.ipynb",
      "provenance": [],
      "collapsed_sections": []
    },
    "kernelspec": {
      "name": "python3",
      "display_name": "Python 3"
    },
    "language_info": {
      "name": "python"
    },
    "accelerator": "GPU"
  },
  "cells": [
    {
      "cell_type": "markdown",
      "metadata": {
        "id": "K3hHPom9_kpN"
      },
      "source": [
        "[문제 풀기](https://programmers.co.kr/learn/courses/30/lessons/17679)"
      ]
    },
    {
      "cell_type": "code",
      "metadata": {
        "id": "51z98xYCAKNE"
      },
      "source": [
        "m = 4\n",
        "n = 5\n",
        "board = [\"CCBDE\", \"AAADE\", \"AAABF\", \"CCBBF\"]\n",
        "\n"
      ],
      "execution_count": null,
      "outputs": []
    },
    {
      "cell_type": "markdown",
      "metadata": {
        "id": "91o-DiTFKvsK"
      },
      "source": [
        "# 풀이\n",
        "1. list element의 용이한 삭제를 위해, 행과 열을 전치한 후 시작\n",
        "2. 블록이 터져야 할 부분은 index를 set에 저장(중복 방지) 후 0으로 변경\n",
        "3. 0 개수를 count한 후, 앞(위쪽)으로 재배치. '_'로 변경 후 2번 과정 반복\n",
        "4. answer에 loop: now_count개수를 더해주다가,loop 안에서 0 개수를 count한 결과가 0개일 경우, return\n",
        "\n",
        "\n",
        "\n",
        "\n",
        "> Keypoint  \n",
        "> 1. set을 이용해 중복 방지\n",
        "> 2. Transpose해서 진행\n",
        "> 3. 0 개수 count를 위한, '_'로의 치환"
      ]
    },
    {
      "cell_type": "code",
      "metadata": {
        "id": "B72BpVbVFCp2"
      },
      "source": [
        "def del4block(m,n,board):\n",
        "\n",
        "    now_count=0\n",
        "    # 중복방지 setlist\n",
        "    pop_set=set()\n",
        "  \n",
        "    for i in range(n-1):\n",
        "        for j in range(m-1):\n",
        "            if board[i][j]==board[i+1][j]==board[i][j+1]==board[i+1][j+1] and board[i][j]!='_':\n",
        "                pop_set |= set([(i,j), (i+1,j), (i,j+1), (i+1,j+1)]) # 터질 부분 indexing \n",
        "    # print(pop_set)  \n",
        "\n",
        "    for i,j in pop_set:\n",
        "        board[i][j] = 0 # 0으로 만들기\n",
        "\n",
        "    for i,row in enumerate(board):\n",
        "        cnt = row.count(0) # 0 개수 세기\n",
        "      now_count+=cnt# now_count에 더하기\n",
        "        board[i]=cnt*['_']+ [b for b in row if b!=0] # 앞으로 당기기 및 _ 로 치환하기(개수세기 위함)\n",
        "    # print(board)\n",
        "    return board,now_count\n",
        "\n",
        "def solution(m, n, board):\n",
        "    answer = 0\n",
        "    board = [list(row) for row in board] # 알파벳 분리\n",
        "    board = list(map(list,zip(*board))) # 전치\n",
        "    while True:\n",
        "        boardnow_count=del4block(m,n,board)\n",
        "        if now_count==0: # 더이상 터질 게 없다면\n",
        "            return answer \n",
        "            break;\n",
        "        answer+=now_count # answer에 loop마다 now_count 더하기\n"
      ],
      "execution_count": null,
      "outputs": []
    },
    {
      "cell_type": "code",
      "metadata": {
        "colab": {
          "base_uri": "https://localhost:8080/"
        },
        "id": "40IJQD0Ecj8Y",
        "outputId": "bba7c87b-92c5-47a0-f156-3a579e64b090"
      },
      "source": [
        "solution(m,n,board)"
      ],
      "execution_count": null,
      "outputs": [
        {
          "output_type": "execute_result",
          "data": {
            "text/plain": [
              "14"
            ]
          },
          "metadata": {},
          "execution_count": 65
        }
      ]
    },
    {
      "cell_type": "markdown",
      "metadata": {
        "id": "ajmWTeGtitpt"
      },
      "source": [
        "14개의 블록이 터진다. 펑!"
      ]
    },
    {
      "cell_type": "code",
      "metadata": {
        "id": "aI-uPgOPizhp"
      },
      "source": [
        ""
      ],
      "execution_count": null,
      "outputs": []
    }
  ]
}