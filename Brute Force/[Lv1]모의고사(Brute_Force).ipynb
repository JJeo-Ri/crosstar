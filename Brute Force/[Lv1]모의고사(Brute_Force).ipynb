{
  "nbformat": 4,
  "nbformat_minor": 0,
  "metadata": {
    "colab": {
      "name": "[Lv1]모의고사(Brute Force).ipynb",
      "provenance": [],
      "collapsed_sections": []
    },
    "kernelspec": {
      "name": "python3",
      "display_name": "Python 3"
    },
    "language_info": {
      "name": "python"
    },
    "accelerator": "GPU"
  },
  "cells": [
    {
      "cell_type": "markdown",
      "metadata": {
        "id": "b70PPGCkfuyq"
      },
      "source": [
        "## 모의고사\n",
        "일정 규칙을 갖고 찍는 3가지 규칙 중 가장 정답을 많이 맞힌 규칙을 리턴하는 문제.\n",
        "\n",
        "[문제 풀기](https://programmers.co.kr/learn/courses/30/lessons/42840)\n",
        "\n",
        "- 인풋과 같은 길이의 규칙의 list를 반환한 후 진행하였다.\n",
        "- 특별하게 필요한 함수나 아이디어는 없음.\n"
      ]
    },
    {
      "cell_type": "code",
      "metadata": {
        "id": "qHpXTXIUfkYk"
      },
      "source": [
        "def solution(answers):\n",
        "\n",
        "    ans_length = len(answers)\n",
        "    rule1=[1,2,3,4,5]\n",
        "    rule2=[2,1,2,3,2,4,2,5]\n",
        "    rule3=[3,3,1,1,2,2,4,4,5,5]\n",
        "\n",
        "    answer=[]\n",
        "    list_1=rule1*(ans_length//len(rule1))+ rule1[:ans_length%len(rule1)]\n",
        "    list_2=rule2*(ans_length//len(rule2))+ rule2[:ans_length%len(rule2)]\n",
        "    list_3=rule3*(ans_length//len(rule3))+ rule3[:ans_length%len(rule3)]\n",
        "    count1, count2, count3=0,0,0\n",
        "\n",
        "    for i in range(ans_length):\n",
        "        if list_1[i]==answers[i]: count1+=1;\n",
        "        if list_2[i]==answers[i]: count2+=1;\n",
        "        if list_3[i]==answers[i]: count3+=1;\n",
        "    anslist = [-1,count1,count2,count3]\n",
        "    for i, num in enumerate(anslist):\n",
        "        if max(anslist)==num:\n",
        "            answer.append(i)\n",
        "    print(answer)\n",
        "\n",
        "    return answer"
      ],
      "execution_count": 2,
      "outputs": []
    },
    {
      "cell_type": "code",
      "metadata": {
        "colab": {
          "base_uri": "https://localhost:8080/"
        },
        "id": "uMyqiLIYgOXC",
        "outputId": "869bfbee-25ce-4c3c-dab2-d1f70da71acf"
      },
      "source": [
        "answers = [2,3,3,4,5,1,2,3,2,1,2,3,3,4]\n",
        "solution(answers)"
      ],
      "execution_count": 3,
      "outputs": [
        {
          "output_type": "stream",
          "name": "stdout",
          "text": [
            "[1]\n"
          ]
        },
        {
          "output_type": "execute_result",
          "data": {
            "text/plain": [
              "[1]"
            ]
          },
          "metadata": {},
          "execution_count": 3
        }
      ]
    },
    {
      "cell_type": "markdown",
      "metadata": {
        "id": "i7gRJ8KBgcDk"
      },
      "source": [
        "1의 규칙이 가장 바람직했으므로 첫번째 방식으로 찍은 것이 정답."
      ]
    },
    {
      "cell_type": "code",
      "metadata": {
        "id": "Xz_UxoAmhZvj"
      },
      "source": [
        "\n",
        "## 참고할 만한 깔끔한 코드 \n",
        "\n",
        "def solution(answers):\n",
        "    pattern1 = [1,2,3,4,5]\n",
        "    pattern2 = [2,1,2,3,2,4,2,5]\n",
        "    pattern3 = [3,3,1,1,2,2,4,4,5,5]\n",
        "    score = [0, 0, 0]\n",
        "    result = []\n",
        "\n",
        "    for idx, answer in enumerate(answers):\n",
        "        if answer == pattern1[idx%len(pattern1)]:\n",
        "            score[0] += 1\n",
        "        if answer == pattern2[idx%len(pattern2)]:\n",
        "            score[1] += 1\n",
        "        if answer == pattern3[idx%len(pattern3)]:\n",
        "            score[2] += 1\n",
        "\n",
        "    for idx, s in enumerate(score):\n",
        "        if s == max(score):\n",
        "            result.append(idx+1)\n",
        "\n",
        "    return result"
      ],
      "execution_count": null,
      "outputs": []
    }
  ]
}