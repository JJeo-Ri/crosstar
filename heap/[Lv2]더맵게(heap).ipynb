{
  "nbformat": 4,
  "nbformat_minor": 0,
  "metadata": {
    "colab": {
      "name": "[Lv2]더맵게(heap).ipynb",
      "provenance": [],
      "collapsed_sections": []
    },
    "kernelspec": {
      "name": "python3",
      "display_name": "Python 3"
    },
    "language_info": {
      "name": "python"
    }
  },
  "cells": [
    {
      "cell_type": "markdown",
      "metadata": {
        "id": "YhBxsYJt1Gxz"
      },
      "source": [
        "[문제 풀기](https://programmers.co.kr/learn/courses/30/lessons/42626)\n",
        "\n",
        "min, max 문제 : heapq 모듈 import하여 heap 알고리즘 사용.\n",
        "\n",
        "[블로그 참고](https://gmlwjd9405.github.io/2018/05/10/data-structure-heap.html)"
      ]
    },
    {
      "cell_type": "code",
      "metadata": {
        "id": "uw9z-eeTtdrz"
      },
      "source": [
        "def solution1(scoville, K):    \n",
        "    \n",
        "    \n",
        "    answer=0\n",
        "    while min(scoville)<K:\n",
        "        scoville.sort(reverse=True)\n",
        "        scoville[-2]=scoville[-1]+2*scoville[-2]\n",
        "        scoville.pop()\n",
        "        answer+=1\n",
        "        if len(scoville)==1:\n",
        "            return -1\n",
        "            break;\n",
        "    return answer"
      ],
      "execution_count": 52,
      "outputs": []
    },
    {
      "cell_type": "markdown",
      "metadata": {
        "id": "h6j20k8xu5H7"
      },
      "source": [
        "heap 알고리즘을 쓰지 않고 매번 정렬하여 푸니 효율성문제가 발생."
      ]
    },
    {
      "cell_type": "code",
      "metadata": {
        "id": "FtaCpbA_tkQK"
      },
      "source": [
        "import heapq\n",
        "def solution2(scoville, K):\n",
        "  heapq.heapify(scoville)\n",
        "  # print(scoville)\n",
        "  answer=0\n",
        "\n",
        "  while scoville[0]<K:\n",
        "    if len(scoville)==1:\n",
        "      return -1\n",
        "      break;\n",
        "\n",
        "    min1=heapq.heappop(scoville)\n",
        "    min2=heapq.heappop(scoville)\n",
        "    heapq.heappush(scoville, min1+(2*min2))\n",
        "    answer+=1\n",
        "  return answer\n"
      ],
      "execution_count": 53,
      "outputs": []
    },
    {
      "cell_type": "code",
      "metadata": {
        "colab": {
          "base_uri": "https://localhost:8080/"
        },
        "id": "XEK4K87XvBEq",
        "outputId": "d6fe2801-d22f-4972-dfd7-079d205f19c3"
      },
      "source": [
        "scoville = [1, 2, 3, 9, 10, 12]\n",
        "K=7\n",
        "print(solution1(scoville,K))\n"
      ],
      "execution_count": 54,
      "outputs": [
        {
          "output_type": "stream",
          "name": "stdout",
          "text": [
            "2\n"
          ]
        }
      ]
    },
    {
      "cell_type": "code",
      "metadata": {
        "colab": {
          "base_uri": "https://localhost:8080/"
        },
        "id": "31Xy5rCYvNi5",
        "outputId": "a0472f63-faf9-47ca-c211-da28e8f36f28"
      },
      "source": [
        "scoville = [1, 2, 3, 9, 10, 12]\n",
        "K=7\n",
        "print(solution2(scoville,K))"
      ],
      "execution_count": 55,
      "outputs": [
        {
          "output_type": "stream",
          "name": "stdout",
          "text": [
            "2\n"
          ]
        }
      ]
    },
    {
      "cell_type": "code",
      "metadata": {
        "id": "Wi4XJ2alzeC0"
      },
      "source": [
        ""
      ],
      "execution_count": 55,
      "outputs": []
    }
  ]
}