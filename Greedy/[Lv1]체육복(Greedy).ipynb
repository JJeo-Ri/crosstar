{
  "nbformat": 4,
  "nbformat_minor": 0,
  "metadata": {
    "colab": {
      "name": "[Lv1]체육복(Greedy).ipynb",
      "provenance": []
    },
    "kernelspec": {
      "name": "python3",
      "display_name": "Python 3"
    },
    "language_info": {
      "name": "python"
    }
  },
  "cells": [
    {
      "cell_type": "markdown",
      "metadata": {
        "id": "uQc54_HDtKON"
      },
      "source": [
        "[문제 풀기](https://programmers.co.kr/learn/courses/30/lessons/42862)\n",
        "\n",
        "## 생각보다 매우 고전한 문제.\n",
        "1. 도난했지만 여분이 있는 자들을 빌려줄 이유가 없다. 자기가 쓰지. -> for 문 안에 넣을 게 아니라 애초에 제거하고 시작해야 한다.\n",
        "  - list comprehension으로 재구성하기\n",
        "  - 애초에 중복 없으므로 set으로 대칭차집합 구하기\n",
        "2. for문에서 pop을 쓰면 indexing 오류가 난다. 그래서 indexing을 통해 이중포문으로 -1로 값을 변경하여 제외하는 알고리즘을 짰었는데, 굳이 그럴 필요가 없었다. \n",
        "3. 낮은 번호를 먼저 탐색하는게 이 알고리즘의 핵심이다. 그래야 최대한 많은 사람이 입을 수 있다.\n",
        "4. 특별한 이유가 없다면 새로 변수를 할당하자. 예상치 못한 오류가 발생한다. 이걸로 30분 소요한듯.."
      ]
    },
    {
      "cell_type": "code",
      "metadata": {
        "id": "KWRxCBiVtEZF"
      },
      "source": [
        "#첫번째 방법\n",
        "def solution(n, lost, reserve):\n",
        "    \n",
        "    reserve_un=set(reserve)-set(lost)\n",
        "    lost_un=set(lost)-set(reserve)\n",
        "    \n",
        "    for num in reserve_un:\n",
        "        \n",
        "        if num-1 in lost_un:\n",
        "            lost_un.remove(num-1)\n",
        "        \n",
        "        elif num+1 in lost_un:\n",
        "            lost_un.remove(num+1)\n",
        "            \n",
        "        \n",
        "    \n",
        "    return n-len(lost_un)"
      ],
      "execution_count": 4,
      "outputs": []
    },
    {
      "cell_type": "code",
      "metadata": {
        "colab": {
          "base_uri": "https://localhost:8080/"
        },
        "id": "fA5XUPoRuZvd",
        "outputId": "bb39e429-6cb2-4876-e5d3-57fb552b94ce"
      },
      "source": [
        "lost = [2,4]\n",
        "reserve =\t[1, 3, 5]\n",
        "solution(10,lost,reserve)"
      ],
      "execution_count": 5,
      "outputs": [
        {
          "output_type": "execute_result",
          "data": {
            "text/plain": [
              "10"
            ]
          },
          "metadata": {},
          "execution_count": 5
        }
      ]
    },
    {
      "cell_type": "code",
      "metadata": {
        "id": "eyNyz9YTt9kt"
      },
      "source": [
        "# 두 번째 방법\n",
        "def solution(n, lost, reserve):\n",
        "    \n",
        "    reserve_un=set(reserve)-set(lost)\n",
        "    lost_un=set(lost)-set(reserve)\n",
        "    \n",
        "    for num in lost_un:\n",
        "        \n",
        "        if num-1 in reserve_un:\n",
        "            reserve_un.remove(num-1)\n",
        "        \n",
        "        elif num+1 in reserve_un:\n",
        "            reserve_un.remove(num+1)\n",
        "            \n",
        "        \n",
        "    \n",
        "    return n-len(lost)+len(reserve)-len(reserve_un)"
      ],
      "execution_count": 6,
      "outputs": []
    },
    {
      "cell_type": "code",
      "metadata": {
        "colab": {
          "base_uri": "https://localhost:8080/"
        },
        "id": "xS9YeYIKuomk",
        "outputId": "dbd52149-6452-4b8c-ac61-7298a6a1a3fb"
      },
      "source": [
        "solution(10,lost,reserve)"
      ],
      "execution_count": 7,
      "outputs": [
        {
          "output_type": "execute_result",
          "data": {
            "text/plain": [
              "10"
            ]
          },
          "metadata": {},
          "execution_count": 7
        }
      ]
    },
    {
      "cell_type": "code",
      "metadata": {
        "id": "BDvsP9fEuo70"
      },
      "source": [
        ""
      ],
      "execution_count": null,
      "outputs": []
    }
  ]
}