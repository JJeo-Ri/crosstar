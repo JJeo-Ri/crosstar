{
  "nbformat": 4,
  "nbformat_minor": 0,
  "metadata": {
    "colab": {
      "name": "[Lv2]날짜계산.ipynb",
      "provenance": []
    },
    "kernelspec": {
      "name": "python3",
      "display_name": "Python 3"
    },
    "language_info": {
      "name": "python"
    }
  },
  "cells": [
    {
      "cell_type": "markdown",
      "metadata": {
        "id": "rW0XVekhtDYe"
      },
      "source": [
        "2016년 1월 1일은 금욜이다.\n",
        "월 = a, 일 = b 를 input으로 주어졌을때\n",
        "요일을 리턴하는 함수를 작성하시오."
      ]
    },
    {
      "cell_type": "code",
      "metadata": {
        "colab": {
          "base_uri": "https://localhost:8080/",
          "height": 35
        },
        "id": "iqmlrXJps-Lw",
        "outputId": "e1f9ad00-b3ca-4b22-e6f0-0d6d02d91d14"
      },
      "source": [
        "def solution(a, b):\n",
        "    dayofweek = ['SUN','MON','TUE','WED','THU', 'FRI', 'SAT']\n",
        "    shortday = [2]\n",
        "    longday = [1,3,5,7,8,10,12]\n",
        "    midday = [4,6,9,11]\n",
        "    count=5 #금요일\n",
        "\n",
        "    for month in range(1,a):\n",
        "          if month in shortday:\n",
        "              count+=29\n",
        "          if month in midday:\n",
        "              count+=30\n",
        "          if month in longday:\n",
        "              count+=31\n",
        "    count+=b\n",
        "    # print((count-1)%7) \n",
        "    return dayofweek[(count-1)%7]\n",
        "solution(5,24)"
      ],
      "execution_count": 3,
      "outputs": [
        {
          "output_type": "execute_result",
          "data": {
            "application/vnd.google.colaboratory.intrinsic+json": {
              "type": "string"
            },
            "text/plain": [
              "'TUE'"
            ]
          },
          "metadata": {},
          "execution_count": 3
        }
      ]
    },
    {
      "cell_type": "markdown",
      "metadata": {
        "id": "EhXlb9kMtQBM"
      },
      "source": [
        "datetime 모듈을 활용할 수도 있다."
      ]
    },
    {
      "cell_type": "code",
      "metadata": {
        "colab": {
          "base_uri": "https://localhost:8080/"
        },
        "id": "8PtwGm_dtX1E",
        "outputId": "50b32194-d52b-42fc-b5dc-4470e579dcca"
      },
      "source": [
        "import datetime\n",
        "\n",
        "def getDayName(a,b):\n",
        "    t = 'MON TUE WED THU FRI SAT SUN'.split()\n",
        "    return t[datetime.datetime(2016, a, b).weekday()]\n",
        "\n",
        "\n",
        "print(getDayName(5,24))"
      ],
      "execution_count": 1,
      "outputs": [
        {
          "output_type": "stream",
          "name": "stdout",
          "text": [
            "TUE\n"
          ]
        }
      ]
    },
    {
      "cell_type": "code",
      "metadata": {
        "id": "FakvgO5ltwXX"
      },
      "source": [
        ""
      ],
      "execution_count": null,
      "outputs": []
    }
  ]
}