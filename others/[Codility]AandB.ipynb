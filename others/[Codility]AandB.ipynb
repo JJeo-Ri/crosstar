{
  "nbformat": 4,
  "nbformat_minor": 0,
  "metadata": {
    "colab": {
      "name": "[Codility]AandB.ipynb",
      "provenance": []
    },
    "kernelspec": {
      "name": "python3",
      "display_name": "Python 3"
    },
    "language_info": {
      "name": "python"
    }
  },
  "cells": [
    {
      "cell_type": "markdown",
      "metadata": {
        "id": "fulYaHrZMGUw"
      },
      "source": [
        "[문제 풀기](https://app.codility.com/c/run/trainingXYBWFS-D45/)\n"
      ]
    },
    {
      "cell_type": "code",
      "metadata": {
        "id": "f83p0bBcMDEE"
      },
      "source": [
        "def solution(A, B):\n",
        "    alist = ['a' for i in range(A)]\n",
        "    blist = ['b' for i in range(B)]\n",
        "    ans = []\n",
        "\n",
        "    # length = len(alist)+len(blist)\n",
        "    while len(alist) + len(blist) != 0:\n",
        "        while len(alist) >= len(blist):\n",
        "            if len(ans) > 1 and ans[-1] == 'a' and ans[-2] == 'a':\n",
        "                if len(blist) > 0:\n",
        "                    ans.append(blist.pop())\n",
        "                break\n",
        "            if len(alist) == 0:\n",
        "                break\n",
        "            ans.append(alist.pop())\n",
        "\n",
        "        while len(blist) >= len(alist):\n",
        "            if len(ans) > 1 and ans[-1] == 'b' and ans[-2] == 'b':\n",
        "                if len(alist) > 0:\n",
        "                    ans.append(alist.pop())\n",
        "                break\n",
        "            if len(blist) == 0:\n",
        "                break\n",
        "            ans.append(blist.pop())\n",
        "\n",
        "    return ''.join(ans)\n",
        "\n",
        "print(solution(102,50))"
      ],
      "execution_count": null,
      "outputs": []
    }
  ]
}