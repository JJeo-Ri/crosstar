{
  "nbformat": 4,
  "nbformat_minor": 0,
  "metadata": {
    "colab": {
      "name": "[Lv1]두개뽑아서더하기.ipynb",
      "provenance": [],
      "collapsed_sections": []
    },
    "kernelspec": {
      "name": "python3",
      "display_name": "Python 3"
    },
    "language_info": {
      "name": "python"
    }
  },
  "cells": [
    {
      "cell_type": "markdown",
      "metadata": {
        "id": "MPrWERGCZ2ZW"
      },
      "source": [
        "## 두 개 뽑아서 더하기\n",
        "\n",
        "[문제풀기](https://programmers.co.kr/learn/courses/30/lessons/68644)\n",
        "- itertools 또는 for문을 활용하여 푸는 문제"
      ]
    },
    {
      "cell_type": "code",
      "metadata": {
        "id": "ppeRlRBVZoPx"
      },
      "source": [
        "import itertools\n",
        "\n",
        "def solution(numbers):\n",
        "    answer = []\n",
        "    comb = itertools.combinations(numbers,2)\n",
        "    for tup in list(comb):\n",
        "        answer.append(tup[0]+tup[1])\n",
        "    answer = sorted(list(set(answer)))\n",
        "    return answer"
      ],
      "execution_count": 1,
      "outputs": []
    },
    {
      "cell_type": "code",
      "metadata": {
        "colab": {
          "base_uri": "https://localhost:8080/"
        },
        "id": "yQ_x7gWIZs_a",
        "outputId": "767a0f1f-aa63-4d75-82f7-3fac4621359d"
      },
      "source": [
        "numbers=[2,1,3,4,1]\n",
        "solution(numbers)"
      ],
      "execution_count": 2,
      "outputs": [
        {
          "output_type": "execute_result",
          "data": {
            "text/plain": [
              "[2, 3, 4, 5, 6, 7]"
            ]
          },
          "metadata": {},
          "execution_count": 2
        }
      ]
    }
  ]
}