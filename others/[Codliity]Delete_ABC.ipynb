{
  "nbformat": 4,
  "nbformat_minor": 0,
  "metadata": {
    "colab": {
      "name": "[Codliity]Delete_ABC",
      "provenance": []
    },
    "kernelspec": {
      "name": "python3",
      "display_name": "Python 3"
    },
    "language_info": {
      "name": "python"
    }
  },
  "cells": [
    {
      "cell_type": "markdown",
      "metadata": {
        "id": "Ie_L3ripAFOq"
      },
      "source": [
        "[문제 풀기](https://app.codility.com/demo/results/trainingA77VYN-WTU/)"
      ]
    },
    {
      "cell_type": "code",
      "metadata": {
        "id": "ptE936MVAAjp"
      },
      "source": [
        "def solution(S):\n",
        "    wordlist=[i for i in S]\n",
        "    while True:\n",
        "        \n",
        "        a=len(wordlist)\n",
        "        for i in range(len(wordlist)-1):\n",
        "            cnt = 0\n",
        "            if wordlist[i]!='_' and wordlist[i]==wordlist[i+1]:\n",
        "                wordlist[i]=0\n",
        "                wordlist[i+1]=0\n",
        "                cnt+=2\n",
        "            while 0 in wordlist:\n",
        "                wordlist.remove(0)\n",
        "            wordlist=wordlist+['_']*cnt\n",
        "\n",
        "        while '_' in wordlist:\n",
        "            wordlist.remove('_')\n",
        "        b = len(wordlist)\n",
        "        if b==a:\n",
        "            return ''.join(wordlist)\n",
        "            break"
      ],
      "execution_count": 3,
      "outputs": []
    },
    {
      "cell_type": "code",
      "metadata": {
        "colab": {
          "base_uri": "https://localhost:8080/",
          "height": 35
        },
        "id": "NFrEmZ-5Aob0",
        "outputId": "e02f41ac-10d8-4a5a-b511-8d59bf598003"
      },
      "source": [
        "solution('ABCCBACCB')"
      ],
      "execution_count": 4,
      "outputs": [
        {
          "output_type": "execute_result",
          "data": {
            "application/vnd.google.colaboratory.intrinsic+json": {
              "type": "string"
            },
            "text/plain": [
              "'B'"
            ]
          },
          "metadata": {},
          "execution_count": 4
        }
      ]
    },
    {
      "cell_type": "code",
      "metadata": {
        "id": "QhoFLmblAvZ5"
      },
      "source": [
        ""
      ],
      "execution_count": null,
      "outputs": []
    }
  ]
}