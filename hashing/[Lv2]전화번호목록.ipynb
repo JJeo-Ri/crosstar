{
 "cells": [
  {
   "cell_type": "markdown",
   "id": "0844e755",
   "metadata": {},
   "source": [
    "[문제 풀기](https://programmers.co.kr/learn/courses/30/lessons/42577)"
   ]
  },
  {
   "cell_type": "code",
   "execution_count": 8,
   "id": "804b02e5",
   "metadata": {},
   "outputs": [],
   "source": [
    "def solution(phone_book):\n",
    "    answer = True\n",
    "    phone_book.sort()\n",
    "    for i in range(len(phone_book)-1):\n",
    "        # if phone_book[i] in phone_book[i+1]:\n",
    "        if phone_book[i+1].startswith(phone_book[i]):\n",
    "            return False\n",
    "    return answer"
   ]
  },
  {
   "cell_type": "code",
   "execution_count": 9,
   "id": "853a00a5",
   "metadata": {},
   "outputs": [
    {
     "data": {
      "text/plain": [
       "False"
      ]
     },
     "execution_count": 9,
     "metadata": {},
     "output_type": "execute_result"
    }
   ],
   "source": [
    "phone_book = [\"119\", \"97674223\", \"1195524421\"]\n",
    "solution(phone_book)"
   ]
  },
  {
   "cell_type": "code",
   "execution_count": 1,
   "id": "373d6e11",
   "metadata": {},
   "outputs": [],
   "source": [
    "%config Completer.use_jedi = False"
   ]
  },
  {
   "cell_type": "code",
   "execution_count": 4,
   "id": "1a16bfcd",
   "metadata": {},
   "outputs": [
    {
     "data": {
      "text/plain": [
       "[0, 1, 2]"
      ]
     },
     "execution_count": 4,
     "metadata": {},
     "output_type": "execute_result"
    }
   ],
   "source": [
    "[i for i in range(0,3)]"
   ]
  },
  {
   "cell_type": "code",
   "execution_count": 7,
   "id": "8c4e84f0",
   "metadata": {},
   "outputs": [
    {
     "data": {
      "text/plain": [
       "['118', '119', '1192']"
      ]
     },
     "execution_count": 7,
     "metadata": {},
     "output_type": "execute_result"
    }
   ],
   "source": [
    "sorted([\"119\", \"1192\",\"118\"])"
   ]
  },
  {
   "cell_type": "code",
   "execution_count": null,
   "id": "75830eec",
   "metadata": {},
   "outputs": [],
   "source": []
  }
 ],
 "metadata": {
  "kernelspec": {
   "display_name": "Python 3",
   "language": "python",
   "name": "python3"
  },
  "language_info": {
   "codemirror_mode": {
    "name": "ipython",
    "version": 3
   },
   "file_extension": ".py",
   "mimetype": "text/x-python",
   "name": "python",
   "nbconvert_exporter": "python",
   "pygments_lexer": "ipython3",
   "version": "3.8.8"
  }
 },
 "nbformat": 4,
 "nbformat_minor": 5
}
