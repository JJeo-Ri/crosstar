{
 "cells": [
  {
   "cell_type": "code",
   "execution_count": 2,
   "id": "90a411a8",
   "metadata": {},
   "outputs": [],
   "source": [
    "%config Completer.use_jedi = False"
   ]
  },
  {
   "cell_type": "markdown",
   "id": "707dd55f",
   "metadata": {},
   "source": [
    "## dynamic programming - Kadane's algorithm\n",
    "### subarray 중에 특정 연산값의 최댓값을 구하는 문제.\n",
    "\n",
    "특정 연산이란 : 특정한 array의\n",
    "\n",
    "1) 짝수 index항을 다 더하고, \n",
    "2) 홀수 index 항을 다 더하고, \n",
    "3) 차이의 제곱을 계산.\n",
    "\n",
    "다시 말해, 최대가 되는 부분 배열을 구하고 그 최댓값을 알아보자!\n",
    "\n",
    "\n",
    "[Dynamic Programming의 Kadane Algorithm 참조](https://sustainable-dev.tistory.com/23)\n",
    "\n",
    "본 링크는 문제와는 차이가 있으나, 개념을 차용하여 해결하였다."
   ]
  },
  {
   "cell_type": "code",
   "execution_count": 27,
   "id": "6a1e2a30",
   "metadata": {},
   "outputs": [
    {
     "data": {
      "text/plain": [
       "49"
      ]
     },
     "execution_count": 27,
     "metadata": {},
     "output_type": "execute_result"
    }
   ],
   "source": [
    "def sumsq(arr): #연산에 대한 함수\n",
    "    n=len(arr)\n",
    "    sum1=sum([arr[i] for i in range(0,n,2)])\n",
    "#     print(sum1)\n",
    "    sum2=sum([arr[i] for i in range(1,n,2)])\n",
    "#     print(sum2)\n",
    "    return (sum1-sum2)**2\n",
    "# print(sumsq([1,-1,1,-1,1]))\n",
    "def maxSubarrayValue(arr): \n",
    "    n = len(arr)\n",
    "    dp=[0]*n #연산에 대한 dynamic programming\n",
    "    dp[0] = sumsq([arr[0]])\n",
    "    for i in range(1,n):\n",
    "        lis=[]\n",
    "        for j in range(i):\n",
    "            lis.append(sumsq(arr[j:i])) \n",
    "        dp[i] = max(dp[i-1],max(lis))\n",
    "    return max(dp)\n",
    "arr =[1,-2,3,-1,-4]\n",
    "maxSubarrayValue(arr) \n",
    "# sumsq(arr)"
   ]
  }
 ],
 "metadata": {
  "kernelspec": {
   "display_name": "Python 3",
   "language": "python",
   "name": "python3"
  },
  "language_info": {
   "codemirror_mode": {
    "name": "ipython",
    "version": 3
   },
   "file_extension": ".py",
   "mimetype": "text/x-python",
   "name": "python",
   "nbconvert_exporter": "python",
   "pygments_lexer": "ipython3",
   "version": "3.8.8"
  }
 },
 "nbformat": 4,
 "nbformat_minor": 5
}
