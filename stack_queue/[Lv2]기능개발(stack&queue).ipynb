{
  "nbformat": 4,
  "nbformat_minor": 0,
  "metadata": {
    "colab": {
      "name": "[Lv2]기능개발(stack&queue).ipynb",
      "provenance": []
    },
    "kernelspec": {
      "name": "python3",
      "display_name": "Python 3"
    },
    "language_info": {
      "name": "python"
    }
  },
  "cells": [
    {
      "cell_type": "markdown",
      "metadata": {
        "id": "CksVAFtIsKKS"
      },
      "source": [
        "[문제 풀기](https://programmers.co.kr/learn/courses/30/lessons/42586)\n",
        "\n",
        "스스로만의 힘으로 푸니 매우 뿌듯!"
      ]
    },
    {
      "cell_type": "code",
      "metadata": {
        "id": "z1i2GQKdrTTd"
      },
      "source": [
        "def solution(progresses, speeds):\n",
        "    load = [] \n",
        "    for a, b in zip(progresses,speeds):\n",
        "        n=0\n",
        "        while n<(100-a)/b:\n",
        "            n+=1;\n",
        "        load.append(n)\n",
        "    # print(load) #걸리는 시간 list로 반환\n",
        "    max = 0\n",
        "    answer=[]\n",
        "    for n in load:\n",
        "        if max == 0:\n",
        "            max = n;\n",
        "            count = 1  # 첫 index 의 경우 n을 max에 할당하고 count =1\n",
        "        elif n>max:\n",
        "            max=n;  # 더 오래걸리는(값이 큰) n 값이 나올경우, 이전의 count 값 append 한 후 다시 1로 초기화\n",
        "            answer.append(count)\n",
        "            count=1\n",
        "        else :    # max값이 갱신되지 않을 경우 count에 1을 더함\n",
        "            count+=1\n",
        "    answer.append(count) # 마지막 남은 값을 답변에 append gka\n",
        "\n",
        "    return answer"
      ],
      "execution_count": 1,
      "outputs": []
    },
    {
      "cell_type": "code",
      "metadata": {
        "colab": {
          "base_uri": "https://localhost:8080/"
        },
        "id": "-jiSPsPCsBW4",
        "outputId": "fa1595ac-7856-4b26-e0b8-c96bd1909aee"
      },
      "source": [
        "progresses = [93, 30, 55]\n",
        "speeds = [1, 30, 5]\n",
        "solution(progresses, speeds)"
      ],
      "execution_count": 2,
      "outputs": [
        {
          "output_type": "execute_result",
          "data": {
            "text/plain": [
              "[2, 1]"
            ]
          },
          "metadata": {},
          "execution_count": 2
        }
      ]
    }
  ]
}